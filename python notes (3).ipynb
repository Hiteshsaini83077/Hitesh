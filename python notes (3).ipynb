{
 "cells": [
  {
   "cell_type": "code",
   "execution_count": 1,
   "id": "2e919a0e-46c0-483b-9d6e-518fba0360ba",
   "metadata": {},
   "outputs": [
    {
     "name": "stdout",
     "output_type": "stream",
     "text": [
      "hello world\n"
     ]
    }
   ],
   "source": [
    "print('hello world')"
   ]
  },
  {
   "cell_type": "code",
   "execution_count": null,
   "id": "734114da-7035-4eb9-ab49-c3dcdb401c34",
   "metadata": {},
   "outputs": [],
   "source": [
    "# print() -> this is built-in func given by python, \n",
    "# prints stream of output"
   ]
  },
  {
   "cell_type": "code",
   "execution_count": 2,
   "id": "930edb16-ff55-4a9e-8d37-6bd4170a2769",
   "metadata": {},
   "outputs": [],
   "source": [
    "# Variables: These are labels/container to store a value and can used any where when it is called"
   ]
  },
  {
   "cell_type": "code",
   "execution_count": 3,
   "id": "b9653b1d-9312-4bc1-9d5a-5fe0c39ad66c",
   "metadata": {},
   "outputs": [],
   "source": [
    "a=23"
   ]
  },
  {
   "cell_type": "code",
   "execution_count": 4,
   "id": "1b679b2c-e712-4da5-9295-2f8434838a09",
   "metadata": {},
   "outputs": [
    {
     "data": {
      "text/plain": [
       "23"
      ]
     },
     "execution_count": 4,
     "metadata": {},
     "output_type": "execute_result"
    }
   ],
   "source": [
    "a"
   ]
  },
  {
   "cell_type": "code",
   "execution_count": 5,
   "id": "09a5870c-cdb6-4381-9f25-84844ea3ae7f",
   "metadata": {},
   "outputs": [
    {
     "name": "stdout",
     "output_type": "stream",
     "text": [
      "The age is 23\n"
     ]
    }
   ],
   "source": [
    "print('The age is', a)"
   ]
  },
  {
   "cell_type": "code",
   "execution_count": 6,
   "id": "c694e954-49e8-4e44-8744-20f8c0379f6e",
   "metadata": {},
   "outputs": [
    {
     "name": "stdout",
     "output_type": "stream",
     "text": [
      "Hello this is first line Hello this is second line\n"
     ]
    }
   ],
   "source": [
    "# functionality of print -> end, sep\n",
    "print('Hello this is first line', end=' ')  # '' -> this is an empty string\n",
    "print('Hello this is second line')"
   ]
  },
  {
   "cell_type": "code",
   "execution_count": 7,
   "id": "c2577497-ea6b-4610-9c3b-1ef5ed479dc3",
   "metadata": {},
   "outputs": [
    {
     "name": "stdout",
     "output_type": "stream",
     "text": [
      "hello--world\n"
     ]
    }
   ],
   "source": [
    "print('hello', 'world', sep='--')"
   ]
  },
  {
   "cell_type": "code",
   "execution_count": 8,
   "id": "65e0862e-68d6-4dff-9e9a-d3d25ef610b0",
   "metadata": {},
   "outputs": [
    {
     "name": "stdout",
     "output_type": "stream",
     "text": [
      "This is separator_we are learning in python\n"
     ]
    }
   ],
   "source": [
    "print('This is separator', 'we are learning in python', sep='_')"
   ]
  },
  {
   "cell_type": "code",
   "execution_count": null,
   "id": "809f4169-1857-474f-afeb-220c84277b19",
   "metadata": {},
   "outputs": [],
   "source": [
    "# User input -> any information/ data/ value given by user\n",
    "# user -> the person who is using our code\n",
    "# input() function is used to take user input."
   ]
  },
  {
   "cell_type": "code",
   "execution_count": 9,
   "id": "065b481c-134e-4c97-8629-eebf4096b83e",
   "metadata": {},
   "outputs": [
    {
     "name": "stdin",
     "output_type": "stream",
     "text": [
      " python\n"
     ]
    },
    {
     "data": {
      "text/plain": [
       "'python'"
      ]
     },
     "execution_count": 9,
     "metadata": {},
     "output_type": "execute_result"
    }
   ],
   "source": [
    "input()"
   ]
  },
  {
   "cell_type": "code",
   "execution_count": 10,
   "id": "46726fc4-d96b-405c-bd54-dcd60ce5dcb4",
   "metadata": {},
   "outputs": [
    {
     "name": "stdin",
     "output_type": "stream",
     "text": [
      " python\n"
     ]
    }
   ],
   "source": [
    "day = input()"
   ]
  },
  {
   "cell_type": "code",
   "execution_count": null,
   "id": "7d149ea6-137a-40b6-8c6b-28400a7549f0",
   "metadata": {},
   "outputs": [],
   "source": [
    "# Arithmetic operators +,-,*,/,//,%"
   ]
  },
  {
   "cell_type": "code",
   "execution_count": 11,
   "id": "0cf8875d-de6d-4307-acc2-bb8a0f9f51bc",
   "metadata": {},
   "outputs": [
    {
     "name": "stdout",
     "output_type": "stream",
     "text": [
      "35\n"
     ]
    }
   ],
   "source": [
    "number1 = 12\n",
    "number2 = 23\n",
    "print(number1 + number2) # adding two numeric values, it is addition \n",
    "# + -> addition operator "
   ]
  },
  {
   "cell_type": "code",
   "execution_count": 12,
   "id": "71546209-e123-4e08-8259-77af7bf525dd",
   "metadata": {},
   "outputs": [
    {
     "name": "stdout",
     "output_type": "stream",
     "text": [
      "11\n"
     ]
    }
   ],
   "source": [
    "print(number2 - number1)  # subtraction two numeric values, it is subtraction"
   ]
  },
  {
   "cell_type": "code",
   "execution_count": 13,
   "id": "6a794576-1b2a-462f-83e3-c29924cbb1fc",
   "metadata": {},
   "outputs": [
    {
     "name": "stdout",
     "output_type": "stream",
     "text": [
      "276\n"
     ]
    }
   ],
   "source": [
    "print(number1 * number2)  # multiplication operator"
   ]
  },
  {
   "cell_type": "code",
   "execution_count": 14,
   "id": "245a9866-72dd-4379-b8c0-242a3f035612",
   "metadata": {},
   "outputs": [
    {
     "name": "stdout",
     "output_type": "stream",
     "text": [
      "11.5\n"
     ]
    }
   ],
   "source": [
    "print(number2 / 2)  # division operator, qoutent"
   ]
  },
  {
   "cell_type": "code",
   "execution_count": 15,
   "id": "611aed94-c633-405b-a39e-70d176c7b3df",
   "metadata": {},
   "outputs": [
    {
     "name": "stdout",
     "output_type": "stream",
     "text": [
      "1\n"
     ]
    }
   ],
   "source": [
    "print(number2 % 2)  # modulo, remainder"
   ]
  },
  {
   "cell_type": "code",
   "execution_count": 16,
   "id": "3f53f09b-5f9d-4a61-bbf3-0ca233dac6ef",
   "metadata": {},
   "outputs": [
    {
     "name": "stdout",
     "output_type": "stream",
     "text": [
      "144\n",
      "3025\n",
      "166375\n"
     ]
    }
   ],
   "source": [
    "print(number1**2)  # exponent, power\n",
    "print(55**2)\n",
    "print(55**3)"
   ]
  },
  {
   "cell_type": "code",
   "execution_count": 17,
   "id": "07977b43-c945-45ce-8aad-c370a6d6b311",
   "metadata": {},
   "outputs": [
    {
     "name": "stdout",
     "output_type": "stream",
     "text": [
      "6.0\n"
     ]
    }
   ],
   "source": [
    "print(number1/2)"
   ]
  },
  {
   "cell_type": "code",
   "execution_count": 18,
   "id": "9f8ef95b-87e1-4f65-8704-af18ef3544ab",
   "metadata": {},
   "outputs": [
    {
     "name": "stdout",
     "output_type": "stream",
     "text": [
      "6\n"
     ]
    }
   ],
   "source": [
    "print(number1//2) # floor division\n",
    "# flooring value -> the lowest whole number from the decimal value"
   ]
  },
  {
   "cell_type": "code",
   "execution_count": null,
   "id": "7b0f6b18-2e59-41aa-93ea-0c47ce7997bc",
   "metadata": {},
   "outputs": [],
   "source": [
    "# Assignment operator \n",
    "# = -> assignment operator"
   ]
  },
  {
   "cell_type": "code",
   "execution_count": 20,
   "id": "ddc961bf-e31c-4fd7-a181-a4f117b65a7e",
   "metadata": {},
   "outputs": [],
   "source": [
    "value = 50"
   ]
  },
  {
   "cell_type": "code",
   "execution_count": 22,
   "id": "19116de4-f934-42ac-bc8f-37b2559f5c3e",
   "metadata": {},
   "outputs": [
    {
     "name": "stdout",
     "output_type": "stream",
     "text": [
      "50\n"
     ]
    }
   ],
   "source": [
    "print(value)"
   ]
  },
  {
   "cell_type": "code",
   "execution_count": null,
   "id": "468bce37-6823-4cfc-8a99-8af841892ffa",
   "metadata": {},
   "outputs": [],
   "source": [
    "# comparison operator -> to compare two values -> everytime it will return you a boolean value(True, False)\n",
    "# less than <, greater than >, less than equals <=, greater than equals >=\n",
    "# == equal to, != not equal to"
   ]
  },
  {
   "cell_type": "code",
   "execution_count": 23,
   "id": "4fe9532b-4ff8-468a-8dcc-d4fee0e5124f",
   "metadata": {},
   "outputs": [
    {
     "name": "stdout",
     "output_type": "stream",
     "text": [
      "True\n"
     ]
    }
   ],
   "source": [
    "age1 = 24\n",
    "age2 = 55\n",
    "\n",
    "print(age1 < age2)"
   ]
  },
  {
   "cell_type": "code",
   "execution_count": 24,
   "id": "d9572d73-4c50-43d5-a3be-ee5529d232a7",
   "metadata": {},
   "outputs": [
    {
     "name": "stdout",
     "output_type": "stream",
     "text": [
      "False\n"
     ]
    }
   ],
   "source": [
    "print(age1 > age2)"
   ]
  },
  {
   "cell_type": "code",
   "execution_count": null,
   "id": "de5c6f31-c2ee-4c93-b1da-a6ce88692d39",
   "metadata": {},
   "outputs": [],
   "source": [
    "# Logical operator -> and, or, not\n",
    "# note: logical works with boolean "
   ]
  },
  {
   "cell_type": "code",
   "execution_count": 25,
   "id": "6d303d20-3bc0-499d-bbb2-cb23fa2aa960",
   "metadata": {},
   "outputs": [
    {
     "name": "stdout",
     "output_type": "stream",
     "text": [
      "True\n"
     ]
    }
   ],
   "source": [
    "print(44 < 55)"
   ]
  },
  {
   "cell_type": "code",
   "execution_count": 26,
   "id": "7483175e-d45a-4b98-93e9-c3f48ea8dd83",
   "metadata": {},
   "outputs": [
    {
     "name": "stdout",
     "output_type": "stream",
     "text": [
      "True\n"
     ]
    }
   ],
   "source": [
    "print(66 > 56)"
   ]
  },
  {
   "cell_type": "code",
   "execution_count": 27,
   "id": "bc42d313-b1a9-4af8-983e-060df06ee4ec",
   "metadata": {},
   "outputs": [
    {
     "name": "stdout",
     "output_type": "stream",
     "text": [
      "True\n"
     ]
    }
   ],
   "source": [
    "print(44 < 55 and 66 > 56)"
   ]
  },
  {
   "cell_type": "code",
   "execution_count": 28,
   "id": "d089e38f-be18-4fd1-af25-d1f9c7911910",
   "metadata": {},
   "outputs": [
    {
     "name": "stdout",
     "output_type": "stream",
     "text": [
      "True\n",
      "False\n",
      "False\n",
      "False\n"
     ]
    }
   ],
   "source": [
    "print(True and True)  # True\n",
    "print(True and False) # False\n",
    "print(False and True) # False\n",
    "print(False and False) # False"
   ]
  },
  {
   "cell_type": "code",
   "execution_count": 30,
   "id": "253d3ec9-af23-482c-877a-2a6ff3bf9329",
   "metadata": {},
   "outputs": [
    {
     "name": "stdout",
     "output_type": "stream",
     "text": [
      "True\n",
      "True\n",
      "True\n",
      "False\n"
     ]
    }
   ],
   "source": [
    "print(True or True)  # True\n",
    "print(True or False) # True\n",
    "print(False or True) # True\n",
    "print(False or False) # False"
   ]
  },
  {
   "cell_type": "code",
   "execution_count": null,
   "id": "48bd8adc-e759-4513-951f-2e72f5767739",
   "metadata": {},
   "outputs": [],
   "source": [
    "# Membership operator -> in, not in -> boolean everytime"
   ]
  },
  {
   "cell_type": "code",
   "execution_count": 31,
   "id": "5c60d558-4a38-4fb2-b9dc-a264e3472fa6",
   "metadata": {},
   "outputs": [
    {
     "name": "stdout",
     "output_type": "stream",
     "text": [
      "True\n"
     ]
    }
   ],
   "source": [
    "name = 'Python'\n",
    "print('P' in name)"
   ]
  },
  {
   "cell_type": "code",
   "execution_count": 32,
   "id": "3b150886-b4a1-460e-9dd1-9adbca1045b6",
   "metadata": {},
   "outputs": [
    {
     "name": "stdout",
     "output_type": "stream",
     "text": [
      "True\n"
     ]
    }
   ],
   "source": [
    "print('p' not in name)"
   ]
  },
  {
   "cell_type": "code",
   "execution_count": null,
   "id": "c11a0da9-3aad-492c-beed-c410c9385fd9",
   "metadata": {},
   "outputs": [],
   "source": [
    "# numeric data type -> (int, float, complex)"
   ]
  },
  {
   "cell_type": "code",
   "execution_count": 33,
   "id": "01952efb-0b71-47bf-a7e7-4c4e96a23547",
   "metadata": {},
   "outputs": [],
   "source": [
    "# Integer data type\n",
    "number1 = 100 # integer/ whole number\n",
    "number2 = -9  # -ve int\n",
    "number3 = 0  # zero int"
   ]
  },
  {
   "cell_type": "code",
   "execution_count": null,
   "id": "18fa18ea-f65b-431b-a57a-9b94614fad90",
   "metadata": {},
   "outputs": [],
   "source": [
    "# type() -> this helps to verify the datatype"
   ]
  },
  {
   "cell_type": "code",
   "execution_count": 34,
   "id": "1953913d-fb05-4be8-8d4b-8f17f4def0c1",
   "metadata": {},
   "outputs": [],
   "source": [
    "# floating data type (decimal values)\n",
    "number4 = 12.67886\n",
    "number5 = -6.5669"
   ]
  },
  {
   "cell_type": "code",
   "execution_count": 35,
   "id": "2aa74e40-6a56-4307-bb3e-8079365ecb31",
   "metadata": {},
   "outputs": [],
   "source": [
    "# complex data type (real + img)\n",
    "number6 = 78 + 6j # j/J is used to denote the imaginary part\n",
    "number7 = 100 + 88J  # real -> 100, img -> 88J"
   ]
  },
  {
   "cell_type": "code",
   "execution_count": 36,
   "id": "fe813a19-d323-49a3-9501-424bf9c84d3e",
   "metadata": {},
   "outputs": [],
   "source": [
    "# Type conversion -> converting one data type to another"
   ]
  },
  {
   "cell_type": "code",
   "execution_count": 37,
   "id": "10619524-778c-48ec-ba70-ea97e4ded9c1",
   "metadata": {},
   "outputs": [
    {
     "name": "stdout",
     "output_type": "stream",
     "text": [
      "<class 'int'>\n",
      "100.0\n",
      "<class 'float'>\n"
     ]
    }
   ],
   "source": [
    " # from int to float\n",
    "num = 100  \n",
    "print(type(num))\n",
    "num = float(num)  #  using float() we are converting the int to float\n",
    "print(num)\n",
    "print(type(num))"
   ]
  },
  {
   "cell_type": "code",
   "execution_count": 38,
   "id": "35a7941f-6bc7-49e1-97e4-72f5cda65550",
   "metadata": {},
   "outputs": [
    {
     "name": "stdout",
     "output_type": "stream",
     "text": [
      "<class 'float'>\n",
      "<class 'int'>\n"
     ]
    }
   ],
   "source": [
    "# float to int\n",
    "num = 12.3\n",
    "print(type(num))\n",
    "num = int(num)\n",
    "print(type(num))"
   ]
  },
  {
   "cell_type": "code",
   "execution_count": 39,
   "id": "6ca62227-96df-4bad-85d4-711c221e7236",
   "metadata": {},
   "outputs": [
    {
     "name": "stdout",
     "output_type": "stream",
     "text": [
      "(12.001+0j)\n"
     ]
    }
   ],
   "source": [
    "# float to complex\n",
    "num = 12.001\n",
    "num = complex(num)  # using complex we are converting to complex from float\n",
    "print(num)"
   ]
  },
  {
   "cell_type": "code",
   "execution_count": 40,
   "id": "c8ff1e7e-ce1b-4837-9ec5-04215b9c94c5",
   "metadata": {},
   "outputs": [],
   "source": [
    "# String \n",
    "my_string = 'hello'  # single quote\n",
    "my_string2 = \"Hello\"  # double quote\n",
    "my_string3 = '''Hello''' # triple single quote\n",
    "my_string4 = \"\"\"Hello\"\"\" # triple double quote"
   ]
  },
  {
   "cell_type": "code",
   "execution_count": 41,
   "id": "9ab1862c-189e-43cb-a528-9ba4422d4730",
   "metadata": {},
   "outputs": [
    {
     "name": "stdout",
     "output_type": "stream",
     "text": [
      "<class 'str'>\n",
      "<class 'str'>\n",
      "<class 'str'>\n",
      "<class 'str'>\n"
     ]
    }
   ],
   "source": [
    "print(type(my_string))\n",
    "print(type(my_string2))\n",
    "print(type(my_string3))\n",
    "print(type(my_string4))"
   ]
  },
  {
   "cell_type": "code",
   "execution_count": 44,
   "id": "af1e8d79-dfba-4890-98e3-7e44763bf6cb",
   "metadata": {},
   "outputs": [],
   "source": [
    "# triple quotes are used for multiple lines\n",
    "var = '''Hello\n",
    "this \n",
    "is \n",
    "multiple \n",
    "lines'''"
   ]
  },
  {
   "cell_type": "code",
   "execution_count": 45,
   "id": "03064616-30c2-4d4e-a59d-0d29935217fd",
   "metadata": {},
   "outputs": [
    {
     "name": "stdout",
     "output_type": "stream",
     "text": [
      "Hello\n",
      "this \n",
      "is \n",
      "multiple \n",
      "lines\n"
     ]
    }
   ],
   "source": [
    "print(var)"
   ]
  },
  {
   "cell_type": "code",
   "execution_count": null,
   "id": "8536d6e2-3ba3-4cfa-8c75-8eacd49fe9fc",
   "metadata": {},
   "outputs": [],
   "source": [
    "# indexing -> taking each char from a string\n",
    "# where each char is having an index number"
   ]
  },
  {
   "cell_type": "code",
   "execution_count": 46,
   "id": "f5ee9e15-f879-42da-8665-d8c1f2978d40",
   "metadata": {},
   "outputs": [],
   "source": [
    "data = 'Hello world' # indexing starts with 0 "
   ]
  },
  {
   "cell_type": "code",
   "execution_count": 47,
   "id": "0809695e-4448-4c2e-8bb2-417c97885292",
   "metadata": {},
   "outputs": [
    {
     "name": "stdout",
     "output_type": "stream",
     "text": [
      "H\n"
     ]
    }
   ],
   "source": [
    "print(data[0])"
   ]
  },
  {
   "cell_type": "code",
   "execution_count": 49,
   "id": "2b6b1d32-2038-48a6-affe-741553179978",
   "metadata": {},
   "outputs": [
    {
     "name": "stdout",
     "output_type": "stream",
     "text": [
      "w\n"
     ]
    }
   ],
   "source": [
    "print(data[6])"
   ]
  },
  {
   "cell_type": "code",
   "execution_count": 50,
   "id": "c6782195-984e-42d1-8392-722a7401bfdb",
   "metadata": {},
   "outputs": [
    {
     "name": "stdout",
     "output_type": "stream",
     "text": [
      "11\n"
     ]
    }
   ],
   "source": [
    "# len() -> to find out length of chars in string or iterable \n",
    "print(len(data))"
   ]
  },
  {
   "cell_type": "code",
   "execution_count": null,
   "id": "8e7bfd5a-208c-4b31-9ab1-831b15e96a12",
   "metadata": {},
   "outputs": [],
   "source": [
    "# slicing -> fetching multiple values \n",
    "# [start: end+1: step]"
   ]
  },
  {
   "cell_type": "code",
   "execution_count": 51,
   "id": "2ea14226-e1fb-40fc-8641-42e1e4abcf6a",
   "metadata": {},
   "outputs": [
    {
     "name": "stdout",
     "output_type": "stream",
     "text": [
      "Hello w\n"
     ]
    }
   ],
   "source": [
    "print(data[0:7])"
   ]
  },
  {
   "cell_type": "code",
   "execution_count": 52,
   "id": "055e6fe9-558a-4f4d-a2e1-bdb3a1b4ee3a",
   "metadata": {},
   "outputs": [
    {
     "name": "stdout",
     "output_type": "stream",
     "text": [
      "orld\n"
     ]
    }
   ],
   "source": [
    "print(data[7:]) # from 7 till last"
   ]
  },
  {
   "cell_type": "code",
   "execution_count": 53,
   "id": "2b4abca6-bed6-40ed-94c7-11221032e2bf",
   "metadata": {},
   "outputs": [
    {
     "name": "stdout",
     "output_type": "stream",
     "text": [
      "Hello world\n"
     ]
    }
   ],
   "source": [
    "print(data[:])  # all chars are returned"
   ]
  },
  {
   "cell_type": "code",
   "execution_count": 54,
   "id": "7b6ecb17-efae-4a9a-9f73-f9a4f701c987",
   "metadata": {},
   "outputs": [
    {
     "name": "stdout",
     "output_type": "stream",
     "text": [
      "Hlowrd\n"
     ]
    }
   ],
   "source": [
    "print(data[::2]) # takes all char skipping the 2nd char"
   ]
  },
  {
   "cell_type": "code",
   "execution_count": 56,
   "id": "5c51782f-6efd-47dc-802c-e0bc7bc2061f",
   "metadata": {},
   "outputs": [
    {
     "data": {
      "text/plain": [
       "'dlrow olleH'"
      ]
     },
     "execution_count": 56,
     "metadata": {},
     "output_type": "execute_result"
    }
   ],
   "source": [
    "# reverse a string\n",
    "data[::-1]"
   ]
  },
  {
   "cell_type": "code",
   "execution_count": null,
   "id": "58ce4a80-5aea-4e21-b44a-3aad31ab8ce7",
   "metadata": {},
   "outputs": [],
   "source": [
    "# tuple -> denoted by (), indexed, order, immutable\n",
    "# immutable -> once created cannot be changed, these donot allow item assgn"
   ]
  },
  {
   "cell_type": "code",
   "execution_count": 57,
   "id": "952cc81b-7a7d-4426-9d23-e2f5ddcd2afb",
   "metadata": {},
   "outputs": [
    {
     "name": "stdout",
     "output_type": "stream",
     "text": [
      "3\n",
      "<class 'tuple'>\n"
     ]
    }
   ],
   "source": [
    "names = ('abc', 'efg', 'ijk')\n",
    "print(len(names))\n",
    "print(type(names))"
   ]
  },
  {
   "cell_type": "code",
   "execution_count": 58,
   "id": "2b12bd26-4d67-4ad1-862d-66d399f26f62",
   "metadata": {},
   "outputs": [
    {
     "data": {
      "text/plain": [
       "str"
      ]
     },
     "execution_count": 58,
     "metadata": {},
     "output_type": "execute_result"
    }
   ],
   "source": [
    "type(names[0])"
   ]
  },
  {
   "cell_type": "code",
   "execution_count": 59,
   "id": "fb0cc152-123f-4db8-a25b-f79922132cf2",
   "metadata": {},
   "outputs": [
    {
     "name": "stdout",
     "output_type": "stream",
     "text": [
      "abc\n"
     ]
    }
   ],
   "source": [
    "print(names[0])"
   ]
  },
  {
   "cell_type": "code",
   "execution_count": 60,
   "id": "8e7e4b25-d8cc-49f0-bc7b-1a4146d535da",
   "metadata": {},
   "outputs": [],
   "source": [
    "names = ('abc', 'efg', 'ijk', 'abc', 'abc')"
   ]
  },
  {
   "cell_type": "code",
   "execution_count": 61,
   "id": "0a8fcdc2-b4f4-4702-a277-237d9c5e1fe1",
   "metadata": {},
   "outputs": [
    {
     "data": {
      "text/plain": [
       "1"
      ]
     },
     "execution_count": 61,
     "metadata": {},
     "output_type": "execute_result"
    }
   ],
   "source": [
    "names.index('efg')"
   ]
  },
  {
   "cell_type": "code",
   "execution_count": 62,
   "id": "71e46580-ede6-4112-b71a-44e013941c95",
   "metadata": {},
   "outputs": [
    {
     "data": {
      "text/plain": [
       "2"
      ]
     },
     "execution_count": 62,
     "metadata": {},
     "output_type": "execute_result"
    }
   ],
   "source": [
    "names.index('ijk')"
   ]
  },
  {
   "cell_type": "code",
   "execution_count": null,
   "id": "f175d100-e91c-4ec7-b418-7f754540982b",
   "metadata": {},
   "outputs": [],
   "source": [
    "# List -> ordered, indexed, mutable\n",
    "# denoted -> []"
   ]
  },
  {
   "cell_type": "code",
   "execution_count": 63,
   "id": "1393ae87-7b2e-4ef1-b88c-1df8d35fad36",
   "metadata": {},
   "outputs": [
    {
     "name": "stdout",
     "output_type": "stream",
     "text": [
      "<class 'list'>\n"
     ]
    }
   ],
   "source": [
    "names = ['abc', 'efg', 'ijk']\n",
    "print(type(names))"
   ]
  },
  {
   "cell_type": "code",
   "execution_count": 64,
   "id": "37611386-945e-46da-bade-e24d0be1843e",
   "metadata": {},
   "outputs": [
    {
     "name": "stdout",
     "output_type": "stream",
     "text": [
      "abc\n"
     ]
    }
   ],
   "source": [
    "print(names[0])"
   ]
  },
  {
   "cell_type": "code",
   "execution_count": 65,
   "id": "e0a7abdd-31be-4c98-8c16-63d54f0a3d98",
   "metadata": {},
   "outputs": [],
   "source": [
    "names[0] = 'Python'  # item assignment is possible hence this is mutable"
   ]
  },
  {
   "cell_type": "code",
   "execution_count": 66,
   "id": "ebfe8929-1da7-41c7-b3e1-be72e8232fc2",
   "metadata": {},
   "outputs": [
    {
     "name": "stdout",
     "output_type": "stream",
     "text": [
      "['Python', 'efg', 'ijk']\n"
     ]
    }
   ],
   "source": [
    "print(names)"
   ]
  },
  {
   "cell_type": "code",
   "execution_count": 67,
   "id": "9522c8f0-bc49-4304-a683-89376ca688e1",
   "metadata": {},
   "outputs": [],
   "source": [
    "# methods of list\n",
    "names.append(100) # add items to the end of list"
   ]
  },
  {
   "cell_type": "code",
   "execution_count": 68,
   "id": "90466796-1928-46e1-a02a-0a3e89dc99aa",
   "metadata": {},
   "outputs": [
    {
     "name": "stdout",
     "output_type": "stream",
     "text": [
      "['Python', 'efg', 'ijk', 100]\n"
     ]
    }
   ],
   "source": [
    "print(names)"
   ]
  },
  {
   "cell_type": "code",
   "execution_count": 69,
   "id": "4b621b83-6c01-4f62-aa3c-780a9479f54b",
   "metadata": {},
   "outputs": [],
   "source": [
    "names.extend([1, 2, 3])"
   ]
  },
  {
   "cell_type": "code",
   "execution_count": 70,
   "id": "8743b4a7-1038-48a1-9b8a-4f6f2825747f",
   "metadata": {},
   "outputs": [
    {
     "name": "stdout",
     "output_type": "stream",
     "text": [
      "['Python', 'efg', 'ijk', 100, 1, 2, 3]\n"
     ]
    }
   ],
   "source": [
    "print(names)"
   ]
  },
  {
   "cell_type": "code",
   "execution_count": 71,
   "id": "e7c37db0-3c5f-4c2e-a676-e95078329f7a",
   "metadata": {},
   "outputs": [],
   "source": [
    "names.insert(3,  'new data')"
   ]
  },
  {
   "cell_type": "code",
   "execution_count": 72,
   "id": "8e2fce83-b979-4f27-9e1e-0d4b57b78815",
   "metadata": {},
   "outputs": [
    {
     "name": "stdout",
     "output_type": "stream",
     "text": [
      "['Python', 'efg', 'ijk', 'new data', 100, 1, 2, 3]\n"
     ]
    }
   ],
   "source": [
    "print(names)"
   ]
  },
  {
   "cell_type": "code",
   "execution_count": 73,
   "id": "ba28f1d8-cae9-49b4-92bc-ff656d1ed2a6",
   "metadata": {},
   "outputs": [],
   "source": [
    "# set -> {}, not ordered, no index, no duplicates are allowed\n",
    "set1 = {1, 2, 3, 4, 1, 4, 5, 2, 5}"
   ]
  },
  {
   "cell_type": "code",
   "execution_count": 74,
   "id": "7c19f9f0-fbd5-4aed-9d38-3ce3cf6b8494",
   "metadata": {},
   "outputs": [
    {
     "name": "stdout",
     "output_type": "stream",
     "text": [
      "5\n"
     ]
    }
   ],
   "source": [
    "print(len(set1))"
   ]
  },
  {
   "cell_type": "code",
   "execution_count": 75,
   "id": "12d09dd8-4dc7-45ba-925a-d8a8691732b3",
   "metadata": {},
   "outputs": [
    {
     "name": "stdout",
     "output_type": "stream",
     "text": [
      "{1, 2, 3, 4, 5}\n"
     ]
    }
   ],
   "source": [
    "print(set1)"
   ]
  },
  {
   "cell_type": "code",
   "execution_count": null,
   "id": "16f5efbe-e062-42c8-a8e2-9330f772d7e2",
   "metadata": {},
   "outputs": [],
   "source": [
    "# dictionary -> key:value pair, key-> immutable, value -> mutable/immutable"
   ]
  },
  {
   "cell_type": "code",
   "execution_count": 77,
   "id": "d3a081ca-b35d-4985-98a0-b83e128ceab3",
   "metadata": {},
   "outputs": [],
   "source": [
    "# -> {:}\n",
    "dict1 = {'name':'abd',\n",
    "         'age': 12,\n",
    "         'dept': 'AI'}"
   ]
  },
  {
   "cell_type": "code",
   "execution_count": 78,
   "id": "841b04bf-378d-428b-9248-60883a94b5fc",
   "metadata": {},
   "outputs": [
    {
     "name": "stdout",
     "output_type": "stream",
     "text": [
      "3\n",
      "<class 'dict'>\n"
     ]
    }
   ],
   "source": [
    "print(len(dict1))\n",
    "print(type(dict1))"
   ]
  },
  {
   "cell_type": "code",
   "execution_count": 82,
   "id": "5aab9ace-ad6f-423b-ad32-7916b8c0820f",
   "metadata": {},
   "outputs": [
    {
     "data": {
      "text/plain": [
       "'abd'"
      ]
     },
     "execution_count": 82,
     "metadata": {},
     "output_type": "execute_result"
    }
   ],
   "source": [
    "# values can be fetched using key\n",
    "dict1['name']"
   ]
  },
  {
   "cell_type": "code",
   "execution_count": 83,
   "id": "4673f0ab-123a-4ef3-b9fa-ed3b5134283a",
   "metadata": {},
   "outputs": [],
   "source": [
    "dict1['dept'] = 'DS' # updates the data"
   ]
  },
  {
   "cell_type": "code",
   "execution_count": 85,
   "id": "027e35cb-8835-4401-81c5-0db94eca485c",
   "metadata": {},
   "outputs": [
    {
     "name": "stdout",
     "output_type": "stream",
     "text": [
      "{'name': 'abd', 'age': 12, 'dept': 'DS'}\n"
     ]
    }
   ],
   "source": [
    "print(dict1)"
   ]
  },
  {
   "cell_type": "code",
   "execution_count": null,
   "id": "f1f99fa3-c7b2-46d6-a65d-7a9a3cdbc08e",
   "metadata": {},
   "outputs": [],
   "source": [
    "# methods of dict"
   ]
  },
  {
   "cell_type": "code",
   "execution_count": 86,
   "id": "25810ab5-98dc-4918-92fa-ba1a80579999",
   "metadata": {},
   "outputs": [
    {
     "data": {
      "text/plain": [
       "dict_items([('name', 'abd'), ('age', 12), ('dept', 'DS')])"
      ]
     },
     "execution_count": 86,
     "metadata": {},
     "output_type": "execute_result"
    }
   ],
   "source": [
    "dict1.items()"
   ]
  },
  {
   "cell_type": "code",
   "execution_count": 87,
   "id": "c4089fd0-8493-4201-86cd-6cefbb4b12fd",
   "metadata": {},
   "outputs": [
    {
     "data": {
      "text/plain": [
       "dict_values(['abd', 12, 'DS'])"
      ]
     },
     "execution_count": 87,
     "metadata": {},
     "output_type": "execute_result"
    }
   ],
   "source": [
    "dict1.values()"
   ]
  },
  {
   "cell_type": "code",
   "execution_count": 88,
   "id": "2bfc2224-9aaf-4b85-976e-7a707e4158e0",
   "metadata": {},
   "outputs": [
    {
     "data": {
      "text/plain": [
       "dict_keys(['name', 'age', 'dept'])"
      ]
     },
     "execution_count": 88,
     "metadata": {},
     "output_type": "execute_result"
    }
   ],
   "source": [
    "dict1.keys()"
   ]
  },
  {
   "cell_type": "code",
   "execution_count": 89,
   "id": "651b5f68-610d-41e0-b459-31a4d90b4276",
   "metadata": {},
   "outputs": [],
   "source": [
    "dict1.update({'roll':123})"
   ]
  },
  {
   "cell_type": "code",
   "execution_count": 90,
   "id": "95397113-f908-489d-96a7-92cd4ee28149",
   "metadata": {},
   "outputs": [
    {
     "data": {
      "text/plain": [
       "{'name': 'abd', 'age': 12, 'dept': 'DS', 'roll': 123}"
      ]
     },
     "execution_count": 90,
     "metadata": {},
     "output_type": "execute_result"
    }
   ],
   "source": [
    "dict1"
   ]
  },
  {
   "cell_type": "code",
   "execution_count": null,
   "id": "e08e0684-8dfc-4f99-95c4-1067d731048f",
   "metadata": {},
   "outputs": [],
   "source": [
    "if condition (true)\n",
    "#execute the block\n",
    "elif condition (true)\n",
    "#ececute the block\n",
    "else\n",
    "#execute this if (if and elif) are false"
   ]
  },
  {
   "cell_type": "code",
   "execution_count": 91,
   "id": "2ea75821-5a01-441f-ba81-46bdb14290c9",
   "metadata": {},
   "outputs": [
    {
     "name": "stdin",
     "output_type": "stream",
     "text": [
      "Enter a number:  5\n"
     ]
    },
    {
     "name": "stdout",
     "output_type": "stream",
     "text": [
      "num is Odd\n"
     ]
    }
   ],
   "source": [
    "#wap to check no. is even or odd\n",
    "num = int(input(\"Enter a number: \"))\n",
    "if (num % 2) == 0:\n",
    "  print(\"num is Even\")\n",
    "else:\n",
    "  print(\"num is Odd\")"
   ]
  },
  {
   "cell_type": "code",
   "execution_count": 92,
   "id": "243e161e-c3ba-4d75-9152-b66fedc5987f",
   "metadata": {},
   "outputs": [
    {
     "name": "stdin",
     "output_type": "stream",
     "text": [
      "enter a number  -8\n"
     ]
    },
    {
     "name": "stdout",
     "output_type": "stream",
     "text": [
      "number is negative\n"
     ]
    }
   ],
   "source": [
    "#check no. is +ve or -ve\n",
    "num1 = int(input(\"enter a number \"))\n",
    "if num1 < 0:\n",
    "  print(\"number is negative\")\n",
    "else:\n",
    "    print(\"number is positive\")"
   ]
  },
  {
   "cell_type": "code",
   "execution_count": 93,
   "id": "8f1b4e9f-b575-4ea0-b029-0a545baf2363",
   "metadata": {},
   "outputs": [
    {
     "name": "stdin",
     "output_type": "stream",
     "text": [
      "enter your age  67\n"
     ]
    },
    {
     "name": "stdout",
     "output_type": "stream",
     "text": [
      "you are eligible for voting\n"
     ]
    }
   ],
   "source": [
    "#check vote eligibility\n",
    "num2 = int(input(\"enter your age \"))\n",
    "if num2 >= 18:\n",
    "  print(\"you are eligible for voting\")\n",
    "else:\n",
    "    print(\"you are not eligible\")"
   ]
  },
  {
   "cell_type": "code",
   "execution_count": 94,
   "id": "720e7ccf-8ca5-415c-871f-3235c8ebca83",
   "metadata": {},
   "outputs": [
    {
     "name": "stdin",
     "output_type": "stream",
     "text": [
      "enter first number  9\n",
      "enter second number  8\n",
      "enter third number  8\n"
     ]
    },
    {
     "name": "stdout",
     "output_type": "stream",
     "text": [
      "number1 is greator\n"
     ]
    }
   ],
   "source": [
    "#find the highest no. in 3 numbers\n",
    "num1 =int(input(\"enter first number \"))\n",
    "num2 =int(input(\"enter second number \"))\n",
    "num3 =int(input(\"enter third number \"))\n",
    "if num1 > num2 and num1 > num3:\n",
    "  print (\"number1 is greator\")\n",
    "elif num2 > num3 and num2 > num1:\n",
    "    print(\"number2 is greator\")\n",
    "else:\n",
    "    print(\"number3 is greator\")\n"
   ]
  },
  {
   "cell_type": "code",
   "execution_count": 95,
   "id": "f46edfc8-5473-48dc-ba28-958089cbaa3a",
   "metadata": {},
   "outputs": [
    {
     "name": "stdin",
     "output_type": "stream",
     "text": [
      "enter the number  56\n"
     ]
    },
    {
     "name": "stdout",
     "output_type": "stream",
     "text": [
      "number is between 1 and 100\n"
     ]
    }
   ],
   "source": [
    "#check if a valuue is between 1 to 100\n",
    "num = int(input(\"enter the number \"))\n",
    "if num > 1 and num < 100 :\n",
    "  print(\"number is between 1 and 100\")\n",
    "else:\n",
    "    print(\"number is not in between 1 and 100 \")"
   ]
  },
  {
   "cell_type": "code",
   "execution_count": 97,
   "id": "5a20fb78-603b-4055-9cee-0c34444abd65",
   "metadata": {},
   "outputs": [
    {
     "name": "stdin",
     "output_type": "stream",
     "text": [
      "enter a letter  u\n"
     ]
    },
    {
     "name": "stdout",
     "output_type": "stream",
     "text": [
      "letter is vowel\n"
     ]
    }
   ],
   "source": [
    "#check if a letter is vowel or constant\n",
    "letter = str(input(\"enter a letter \"))\n",
    "if letter == \"a\" or letter == \"e\" or letter == \"i\" or letter == \"o\" or letter == \"u\":\n",
    "  print(\"letter is vowel\")\n",
    "else:\n",
    "    print(\"letter is constant\")"
   ]
  },
  {
   "cell_type": "code",
   "execution_count": 98,
   "id": "30764703-7428-4835-a4f2-f1ec3111538a",
   "metadata": {},
   "outputs": [
    {
     "name": "stdout",
     "output_type": "stream",
     "text": [
      "1.Monday\n",
      "2.Tuesday\n",
      "3.Wednesday\n",
      "4.Thursday\n",
      "5.Friday\n",
      "6.Saturday\n",
      "7.Sunday\n"
     ]
    }
   ],
   "source": [
    "#print all days of a week\n",
    "print(\"1.Monday\")\n",
    "print(\"2.Tuesday\")\n",
    "print(\"3.Wednesday\")\n",
    "print(\"4.Thursday\")\n",
    "print(\"5.Friday\")\n",
    "print(\"6.Saturday\")\n",
    "print(\"7.Sunday\")"
   ]
  },
  {
   "cell_type": "code",
   "execution_count": 99,
   "id": "11f9ceb5-892e-4b3b-9fcf-d5644aeb2b0f",
   "metadata": {},
   "outputs": [
    {
     "name": "stdin",
     "output_type": "stream",
     "text": [
      "enter the day:-  thrusday\n"
     ]
    },
    {
     "name": "stdout",
     "output_type": "stream",
     "text": [
      "regular working day\n"
     ]
    }
   ],
   "source": [
    "#mon(start of work) #tues-thursday regular working day\n",
    "day = str(input(\"enter the day:- \"))\n",
    "if day == \"monday\":\n",
    "  print(\"start of work\")\n",
    "elif day in 'tuesday,wednesday,thrusday':\n",
    "    print(\"regular working day\")\n",
    "elif day == \"friday\":\n",
    "    print(\"start of weekend\")\n",
    "else:\n",
    "      print(\"weekend\")"
   ]
  },
  {
   "cell_type": "code",
   "execution_count": 101,
   "id": "8de6d972-92e9-4f6e-ab83-706aa1509211",
   "metadata": {},
   "outputs": [
    {
     "name": "stdin",
     "output_type": "stream",
     "text": [
      "enter a letter  y\n"
     ]
    },
    {
     "name": "stdout",
     "output_type": "stream",
     "text": [
      "y  is constant\n"
     ]
    }
   ],
   "source": [
    "#check if a letter is vowel or constant\n",
    "letter = str(input(\"enter a letter \"))\n",
    "if letter in 'a,e,i,o,u':\n",
    "  print(letter,\"is vowel\")\n",
    "else:\n",
    "    print(letter,\" is constant\")"
   ]
  },
  {
   "cell_type": "code",
   "execution_count": null,
   "id": "9fcc8aca-e27f-4f68-be99-88c71911c745",
   "metadata": {},
   "outputs": [],
   "source": [
    "# for loop -> repeation of some block of code\n",
    "# syntax\n",
    "# for iter in iterable:\n",
    "#     body of for\n",
    "#     body of for\n",
    "#     body of for"
   ]
  },
  {
   "cell_type": "code",
   "execution_count": null,
   "id": "f004e2df-3e55-42e9-85fd-094d45a7d463",
   "metadata": {},
   "outputs": [],
   "source": [
    "# iterable -> countable elements(string,list,tuple) with index or without index(dict)"
   ]
  },
  {
   "cell_type": "code",
   "execution_count": 102,
   "id": "22fb3669-6d40-4bfc-9bba-553233a8ae2a",
   "metadata": {},
   "outputs": [
    {
     "name": "stdout",
     "output_type": "stream",
     "text": [
      "h\n",
      "e\n",
      "l\n",
      "l\n",
      "o\n"
     ]
    }
   ],
   "source": [
    "for each in 'hello': # each = o\n",
    "    print(each)\n",
    "# loop terminates after the last item."
   ]
  },
  {
   "cell_type": "code",
   "execution_count": 103,
   "id": "4458fdfa-67b1-4df6-a40e-a481a0803eb4",
   "metadata": {},
   "outputs": [],
   "source": [
    "l = [1,3,4,2,54,5,5,6,78,8,90]#list"
   ]
  },
  {
   "cell_type": "code",
   "execution_count": 104,
   "id": "019b0ba9-48a6-4365-92bd-b8ca1361202a",
   "metadata": {},
   "outputs": [
    {
     "name": "stdout",
     "output_type": "stream",
     "text": [
      "1 3 4 2 54 5 5 6 78 8 90 "
     ]
    }
   ],
   "source": [
    "for i in l:\n",
    "    print(i,end=' ')"
   ]
  },
  {
   "cell_type": "code",
   "execution_count": null,
   "id": "c6ae4082-e084-441a-927b-7f8a7c24349e",
   "metadata": {},
   "outputs": [],
   "source": [
    "#we are grabbing every element and adding it with 1 and append"
   ]
  },
  {
   "cell_type": "code",
   "execution_count": 105,
   "id": "7a22da1f-8072-4364-964f-df9e7a5c162e",
   "metadata": {},
   "outputs": [
    {
     "name": "stdout",
     "output_type": "stream",
     "text": [
      "2\n",
      "3\n",
      "4\n",
      "5\n"
     ]
    }
   ],
   "source": [
    "l=[1,2,3,4]\n",
    "for i in l:\n",
    "    print(i+1)"
   ]
  },
  {
   "cell_type": "code",
   "execution_count": 106,
   "id": "3f472c9d-c9e3-47fc-8534-38ded8b90f3b",
   "metadata": {},
   "outputs": [
    {
     "name": "stdout",
     "output_type": "stream",
     "text": [
      "2\n",
      "3\n",
      "4\n",
      "5\n",
      "[2, 3, 4, 5]\n"
     ]
    }
   ],
   "source": [
    "l1=[]\n",
    "for i in l:\n",
    "    print(i+1)\n",
    "    l1.append(i+1)\n",
    "print(l1)"
   ]
  },
  {
   "cell_type": "code",
   "execution_count": 108,
   "id": "84b2a103-7e24-4120-b93a-91bac64b9a87",
   "metadata": {},
   "outputs": [
    {
     "name": "stdout",
     "output_type": "stream",
     "text": [
      "[46, 86, 122, 90]\n"
     ]
    }
   ],
   "source": [
    "l=[23,43,61,45] #output=(46,86,122,90) we want\n",
    "l1=[]\n",
    "for i in l:\n",
    "    l1.append(i+i)\n",
    "print(l1)"
   ]
  },
  {
   "cell_type": "code",
   "execution_count": 110,
   "id": "2b791057-5096-40b1-9c04-394027b2e28f",
   "metadata": {},
   "outputs": [],
   "source": [
    "l1=[1,2,3,4,5,6] #check the no. is even or odd"
   ]
  },
  {
   "cell_type": "code",
   "execution_count": 111,
   "id": "736124a4-0b8b-4a89-9cbf-b7756ecfa633",
   "metadata": {},
   "outputs": [
    {
     "name": "stdout",
     "output_type": "stream",
     "text": [
      "[2, 4, 6]\n",
      "[1, 3, 5]\n"
     ]
    }
   ],
   "source": [
    "le=[]\n",
    "lo=[]\n",
    "for i in l1:\n",
    "    if i%2 == 0:\n",
    "        le.append(i)\n",
    "    else:\n",
    "        lo.append(i)\n",
    "print(le)\n",
    "print(lo)"
   ]
  },
  {
   "cell_type": "code",
   "execution_count": 112,
   "id": "f90127a6-e5ab-40b9-bb57-e0380a272b61",
   "metadata": {},
   "outputs": [
    {
     "name": "stdout",
     "output_type": "stream",
     "text": [
      "1\n",
      "3\n",
      "5\n",
      "7\n",
      "9\n",
      "11\n",
      "13\n",
      "15\n",
      "17\n"
     ]
    }
   ],
   "source": [
    "for k in range (1,18,2):\n",
    "  print(k)"
   ]
  },
  {
   "cell_type": "code",
   "execution_count": 114,
   "id": "0a90e49f-eb96-4101-8a3f-71aae4fc4e13",
   "metadata": {},
   "outputs": [
    {
     "name": "stdin",
     "output_type": "stream",
     "text": [
      "enter the number 77\n"
     ]
    },
    {
     "name": "stdout",
     "output_type": "stream",
     "text": [
      "77 is divisible by 7\n"
     ]
    }
   ],
   "source": [
    "#check whether the number is divisible by 7 or noot\n",
    "num = int(input(\"enter the number\"))\n",
    "if num % 7 == 0:\n",
    "    print (num,\"is divisible by 7\")\n",
    "else:\n",
    "    print(num,\"is not divisile by 7\")"
   ]
  },
  {
   "cell_type": "code",
   "execution_count": 115,
   "id": "6aff112a-5dea-4f76-81ae-2699208bfcfa",
   "metadata": {},
   "outputs": [
    {
     "name": "stdin",
     "output_type": "stream",
     "text": [
      "enter a number  5\n"
     ]
    },
    {
     "name": "stdout",
     "output_type": "stream",
     "text": [
      "5 is positive\n"
     ]
    }
   ],
   "source": [
    "num1 = int(input(\"enter a number \"))\n",
    "if num1 < 0:\n",
    "  print(num1, \"is negative\")\n",
    "else:\n",
    "    print(num1 ,\"is positive\")"
   ]
  },
  {
   "cell_type": "code",
   "execution_count": 116,
   "id": "3dab727b-c055-40d3-b3dd-cea198f93fad",
   "metadata": {},
   "outputs": [],
   "source": [
    "l=[1,2,3,4,5]\n",
    "s= 'hello'\n",
    "d={'a':12,'b':8540}"
   ]
  },
  {
   "cell_type": "code",
   "execution_count": 117,
   "id": "4d753b75-cafd-41ad-8893-8e75ba21239d",
   "metadata": {},
   "outputs": [
    {
     "name": "stdout",
     "output_type": "stream",
     "text": [
      "1 2 3 4 5 "
     ]
    }
   ],
   "source": [
    "for i in l:\n",
    " print(i,end=' ')"
   ]
  },
  {
   "cell_type": "code",
   "execution_count": 118,
   "id": "41489d03-7b4e-43c0-8a2b-daabceb91bfd",
   "metadata": {},
   "outputs": [
    {
     "name": "stdout",
     "output_type": "stream",
     "text": [
      "h e l l o "
     ]
    }
   ],
   "source": [
    "for i in s:\n",
    " print(i,end=' ')"
   ]
  },
  {
   "cell_type": "code",
   "execution_count": 119,
   "id": "19d7d9de-b61c-4596-b02c-b31c738d9cdb",
   "metadata": {},
   "outputs": [
    {
     "name": "stdout",
     "output_type": "stream",
     "text": [
      "2 3 4 5 6 "
     ]
    }
   ],
   "source": [
    "for i in l:\n",
    " print(i+1,end=' ')"
   ]
  },
  {
   "cell_type": "code",
   "execution_count": 120,
   "id": "4b57b2ff-4933-41ec-9a79-24aa7224dd0d",
   "metadata": {},
   "outputs": [
    {
     "name": "stdout",
     "output_type": "stream",
     "text": [
      "2 3 4 5 6 [2, 3, 4, 5, 6]\n"
     ]
    }
   ],
   "source": [
    "l2=[]\n",
    "for i in l:\n",
    " print(i+1,end=' ')\n",
    " l2.append(i+1)\n",
    "print(l2)"
   ]
  },
  {
   "cell_type": "code",
   "execution_count": 121,
   "id": "8782d90b-e316-48e5-9c9a-b36dc46a6e6a",
   "metadata": {},
   "outputs": [
    {
     "name": "stdout",
     "output_type": "stream",
     "text": [
      "[2, 3, 4, 5, 6]\n"
     ]
    }
   ],
   "source": [
    "l2=[]\n",
    "for i in l:\n",
    " x=i+1\n",
    " l2.append(x)\n",
    "print(l2)"
   ]
  },
  {
   "cell_type": "code",
   "execution_count": 122,
   "id": "a4e0f102-9e70-4d25-af32-bfaa30406f3e",
   "metadata": {},
   "outputs": [
    {
     "name": "stdout",
     "output_type": "stream",
     "text": [
      "1 is odd number\n",
      "2 is even number\n",
      "3 is odd number\n",
      "4 is even number\n",
      "5 is odd number\n",
      "6 is even number\n"
     ]
    }
   ],
   "source": [
    "l1=[1,2,3,4,5,6] #check even or odd\n",
    "for i in l1:\n",
    "    if i%2==0:\n",
    "        print(i,'is even number')\n",
    "    else:\n",
    "        print(i,'is odd number')"
   ]
  },
  {
   "cell_type": "code",
   "execution_count": 123,
   "id": "4ce3cabb-a23a-469b-b118-dded43718d05",
   "metadata": {},
   "outputs": [
    {
     "name": "stdout",
     "output_type": "stream",
     "text": [
      "[2, 4, 6] [1, 3, 5]\n"
     ]
    }
   ],
   "source": [
    "le=[]\n",
    "lo=[]\n",
    "for i in l1:\n",
    "    if i%2==0:\n",
    "        le.append(i)\n",
    "    else:\n",
    "        lo.append(i)\n",
    "print(le,lo)"
   ]
  },
  {
   "cell_type": "code",
   "execution_count": 124,
   "id": "ce42d5b0-fc43-4585-a504-e40ce01c30cd",
   "metadata": {},
   "outputs": [
    {
     "name": "stdout",
     "output_type": "stream",
     "text": [
      "HELLO\n",
      "PYTHON\n",
      "LAB\n"
     ]
    }
   ],
   "source": [
    "l=['hello','python','lab'] # convert in upper case letters\n",
    "for i in l:\n",
    " print(i.upper())"
   ]
  },
  {
   "cell_type": "code",
   "execution_count": 125,
   "id": "9bb339c5-bb85-443e-86be-daa38c48a22a",
   "metadata": {},
   "outputs": [
    {
     "name": "stdout",
     "output_type": "stream",
     "text": [
      "<class 'str'> None\n",
      "<class 'str'> None\n",
      "<class 'str'> None\n",
      "['HELLO', 'PYTHON', 'LAB']\n"
     ]
    }
   ],
   "source": [
    "l=['hello','python','lab'] # convert in upper case letters\n",
    "l1=[]\n",
    "for i in l:\n",
    " print(type(i),l1.append(i.upper()))\n",
    "print(l1)    "
   ]
  },
  {
   "cell_type": "code",
   "execution_count": 126,
   "id": "b4f7dfeb-6fca-4685-8ea0-15050c97b3f8",
   "metadata": {},
   "outputs": [
    {
     "name": "stdout",
     "output_type": "stream",
     "text": [
      "<class 'str'> hello\n",
      "<class 'str'> python\n",
      "<class 'str'> lab\n",
      "['HELLO', 'PYTHON', 'LAB']\n"
     ]
    }
   ],
   "source": [
    "l=['hello','python','lab'] # convert in upper case letters\n",
    "l1=[]\n",
    "for i in l:\n",
    " print(type(i),i)\n",
    " l1.append(i.upper())\n",
    "print(l1) "
   ]
  },
  {
   "cell_type": "code",
   "execution_count": 127,
   "id": "c00f824f-fd3a-4e74-8742-a25f583058c0",
   "metadata": {},
   "outputs": [
    {
     "name": "stdout",
     "output_type": "stream",
     "text": [
      "[10, 25, 50.7, 90.8]\n",
      "['hello', 'bye']\n"
     ]
    }
   ],
   "source": [
    "l=[10,25,'hello',50.7,'bye',90.8] # segrigate\n",
    "ln=[]\n",
    "ls=[]\n",
    "for i in l:\n",
    "    if type(i)== int or type(i)==float:\n",
    "        ln.append(i)\n",
    "    else:\n",
    "        ls.append(i)\n",
    "print(ln)  \n",
    "print(ls)"
   ]
  },
  {
   "cell_type": "code",
   "execution_count": 128,
   "id": "814ac29d-c1b0-4369-b4ae-7e291c0fda11",
   "metadata": {},
   "outputs": [
    {
     "name": "stdout",
     "output_type": "stream",
     "text": [
      "1\n",
      "4\n",
      "9\n",
      "16\n",
      "25\n",
      "[1, 4, 9, 16, 25]\n"
     ]
    }
   ],
   "source": [
    "# Print a list of squares of numbers from 1 to 5 \n",
    "l1=[]\n",
    "l=[1,2,3,4,5]\n",
    "for i in l:\n",
    "    print(i**2)\n",
    "    l1.append(i**2)\n",
    "print(l1)"
   ]
  },
  {
   "cell_type": "code",
   "execution_count": 129,
   "id": "5347e5fd-7692-4991-9c38-b9d3c7ae0b7f",
   "metadata": {},
   "outputs": [
    {
     "name": "stdout",
     "output_type": "stream",
     "text": [
      "1\n",
      "4\n",
      "27\n",
      "256\n",
      "3125\n",
      "[1, 4, 27, 256, 3125]\n"
     ]
    }
   ],
   "source": [
    "#print the each number power to itself upto 5\n",
    "l1=[]\n",
    "l=[1,2,3,4,5]\n",
    "for i in l:\n",
    "    print(i**i)\n",
    "    l1.append(i**i)\n",
    "print(l1)"
   ]
  },
  {
   "cell_type": "code",
   "execution_count": 130,
   "id": "0fd2b75c-b36e-428a-86c8-74584deb2a49",
   "metadata": {},
   "outputs": [
    {
     "name": "stdout",
     "output_type": "stream",
     "text": [
      "[2, 4, 6, 8]\n"
     ]
    }
   ],
   "source": [
    "# Find the common elements in two lists using a for loop\n",
    "l3=[]\n",
    "l1=[1,2,3,4,5,6,7,8,9,10]\n",
    "l2=[2,4,6,8]\n",
    "for i in l1:\n",
    "    if i in l2:\n",
    "      l3.append(i)\n",
    "print(l3)"
   ]
  },
  {
   "cell_type": "code",
   "execution_count": 131,
   "id": "bde40c38-4c98-482a-9258-5fced8c0864f",
   "metadata": {},
   "outputs": [
    {
     "name": "stdout",
     "output_type": "stream",
     "text": [
      "canada has 6 letters\n",
      "india has 5 letters\n",
      "australia has 9 letters\n"
     ]
    }
   ],
   "source": [
    "#count the number of letters in canada,india and australia\n",
    "l=['canada','india','australia']\n",
    "for i in l:\n",
    "    print(i,'has',len(i),'letters')"
   ]
  },
  {
   "cell_type": "code",
   "execution_count": 1,
   "id": "cb8d8e0f-533d-45e9-b61f-371c9349c45b",
   "metadata": {},
   "outputs": [
    {
     "data": {
      "text/plain": [
       "[0, 1, 2, 3, 4]"
      ]
     },
     "execution_count": 1,
     "metadata": {},
     "output_type": "execute_result"
    }
   ],
   "source": [
    "list(range(5))"
   ]
  },
  {
   "cell_type": "code",
   "execution_count": 2,
   "id": "a22667a8-3e27-422e-9af7-c23857204383",
   "metadata": {},
   "outputs": [
    {
     "data": {
      "text/plain": [
       "[0, 2, 4]"
      ]
     },
     "execution_count": 2,
     "metadata": {},
     "output_type": "execute_result"
    }
   ],
   "source": [
    "list(range(0, 5,2))\n"
   ]
  },
  {
   "cell_type": "code",
   "execution_count": 1,
   "id": "3a59d205-8616-47e8-8671-b400c437db1b",
   "metadata": {},
   "outputs": [
    {
     "name": "stdin",
     "output_type": "stream",
     "text": [
      "enter a number upto which you want addition 8\n"
     ]
    },
    {
     "name": "stdout",
     "output_type": "stream",
     "text": [
      "28\n"
     ]
    }
   ],
   "source": [
    "sum=0\n",
    "a=int(input(\"enter a number upto which you want addition\"))\n",
    "for i in range(a):\n",
    "     sum+= i\n",
    "print(sum)"
   ]
  },
  {
   "cell_type": "code",
   "execution_count": 2,
   "id": "462ebc7a-adfd-4ac8-aa56-85ea01c6ff79",
   "metadata": {},
   "outputs": [
    {
     "name": "stdout",
     "output_type": "stream",
     "text": [
      "hello <class 'str'>\n",
      "10 <class 'int'>\n",
      "pp <class 'str'>\n",
      "85.0 <class 'float'>\n",
      "if a loop complete execution successfully,else wil run\n"
     ]
    }
   ],
   "source": [
    "l=['hello',10,\"pp\",85.0]\n",
    "for i in l:     #else with for\n",
    "    print(i,type(i))\n",
    "else:\n",
    "    print('if a loop complete execution successfully,else wil run')"
   ]
  },
  {
   "cell_type": "code",
   "execution_count": 3,
   "id": "deef4af4-66cf-43af-b55e-4405d3b3e98b",
   "metadata": {},
   "outputs": [
    {
     "name": "stdout",
     "output_type": "stream",
     "text": [
      "<class 'str'>\n",
      "if a loop complete execution successfully,else wil run\n"
     ]
    }
   ],
   "source": [
    "for i in l:     #else with for\n",
    "    if i==\"pp\":\n",
    "        print(type(i))\n",
    "else:\n",
    "    print('if a loop complete execution successfully,else wil run')"
   ]
  },
  {
   "cell_type": "code",
   "execution_count": 4,
   "id": "cc7d00c8-978c-4fc9-b9ca-2e0848b257a0",
   "metadata": {},
   "outputs": [],
   "source": [
    "for i in l:     #else with for\n",
    "    if i==\"pp\":\n",
    "        break\n",
    "else:\n",
    "    print('if a loop complete execution successfully,else wil run')"
   ]
  },
  {
   "cell_type": "code",
   "execution_count": 5,
   "id": "46991a35-0aa5-433a-9633-35552ceeb34f",
   "metadata": {},
   "outputs": [
    {
     "name": "stdout",
     "output_type": "stream",
     "text": [
      "not found\n",
      "10\n"
     ]
    }
   ],
   "source": [
    "for i in l:\n",
    "    if type(i)==int:\n",
    "        print(i)\n",
    "        break\n",
    "    else:\n",
    "         print('not found')\n",
    "else:\n",
    "    print('output will happen')"
   ]
  },
  {
   "cell_type": "code",
   "execution_count": 6,
   "id": "41bee948-b0b5-4477-a7cb-44c24c08ed4f",
   "metadata": {},
   "outputs": [
    {
     "name": "stdout",
     "output_type": "stream",
     "text": [
      "not found\n",
      "10\n",
      "not found\n",
      "not found\n",
      "output will happen\n"
     ]
    }
   ],
   "source": [
    "for i in l:\n",
    "    if type(i)==int:\n",
    "        print(i)\n",
    "        continue\n",
    "    else:\n",
    "         print('not found')\n",
    "else:\n",
    "    print('output will happen')"
   ]
  },
  {
   "cell_type": "code",
   "execution_count": 7,
   "id": "1a9ad894-309e-4657-a7a7-49beb77c07ef",
   "metadata": {},
   "outputs": [
    {
     "name": "stdout",
     "output_type": "stream",
     "text": [
      "hello\n",
      "10\n"
     ]
    }
   ],
   "source": [
    "for i in l:\n",
    "    if i=='pp':\n",
    "        break\n",
    "    print(i)\n",
    "else:\n",
    "    print('okay')"
   ]
  },
  {
   "cell_type": "code",
   "execution_count": 8,
   "id": "86c86b02-9350-40c9-9f19-9e569432d848",
   "metadata": {},
   "outputs": [
    {
     "data": {
      "text/plain": [
       "['hello', 10, 'pp', 85.0]"
      ]
     },
     "execution_count": 8,
     "metadata": {},
     "output_type": "execute_result"
    }
   ],
   "source": [
    "l"
   ]
  },
  {
   "cell_type": "code",
   "execution_count": 9,
   "id": "8c19d13d-2984-4539-89c3-aba3a4fce434",
   "metadata": {},
   "outputs": [
    {
     "name": "stdout",
     "output_type": "stream",
     "text": [
      "hello\n",
      "10\n",
      "85.0\n",
      "okay\n"
     ]
    }
   ],
   "source": [
    "for i in l: #we don't want to print pp\n",
    "    if i=='pp':\n",
    "        continue\n",
    "    print(i)\n",
    "else:\n",
    "    print('okay')"
   ]
  },
  {
   "cell_type": "code",
   "execution_count": 10,
   "id": "413fd3d9-ab4b-4f36-a613-1cb6fe1395cc",
   "metadata": {},
   "outputs": [
    {
     "name": "stdout",
     "output_type": "stream",
     "text": [
      "not found\n",
      "10\n",
      "not found\n",
      "not found\n",
      "output will happen\n"
     ]
    }
   ],
   "source": [
    "for i in l:\n",
    "    if type(i)==int:\n",
    "        print(i)\n",
    "        continue # if 10 comes it will execute the further list with printing 10\n",
    "    else:\n",
    "         print('not found')\n",
    "else:\n",
    "    print('output will happen')"
   ]
  },
  {
   "cell_type": "code",
   "execution_count": 12,
   "id": "b7dd8964-b800-4a83-857a-287d2fdde762",
   "metadata": {},
   "outputs": [
    {
     "name": "stdout",
     "output_type": "stream",
     "text": [
      "not found\n",
      "not found\n",
      "not found\n",
      "output will happen\n"
     ]
    }
   ],
   "source": [
    "for i in l:\n",
    "    if type(i)==int:\n",
    "        continue # if 10 comes it will execute the further list without printing 10\n",
    "        print(i)\n",
    "    else:\n",
    "         print('not found')\n",
    "else:\n",
    "    print('output will happen')"
   ]
  },
  {
   "cell_type": "code",
   "execution_count": 13,
   "id": "aec1872c-2fb7-4dd3-9f12-524e3e5efec5",
   "metadata": {},
   "outputs": [
    {
     "data": {
      "text/plain": [
       "['hello', 10, 'pp', 85.0]"
      ]
     },
     "execution_count": 13,
     "metadata": {},
     "output_type": "execute_result"
    }
   ],
   "source": [
    "l"
   ]
  },
  {
   "cell_type": "code",
   "execution_count": 14,
   "id": "952b4402-c4ab-49b2-bbe8-b8525cf5bd35",
   "metadata": {},
   "outputs": [
    {
     "data": {
      "text/plain": [
       "4"
      ]
     },
     "execution_count": 14,
     "metadata": {},
     "output_type": "execute_result"
    }
   ],
   "source": [
    "len(l)"
   ]
  },
  {
   "cell_type": "code",
   "execution_count": 15,
   "id": "84ebf7e0-364a-4cf7-b646-b13efbc246a1",
   "metadata": {},
   "outputs": [
    {
     "data": {
      "text/plain": [
       "range(0, 4)"
      ]
     },
     "execution_count": 15,
     "metadata": {},
     "output_type": "execute_result"
    }
   ],
   "source": [
    "range(len(l))"
   ]
  },
  {
   "cell_type": "code",
   "execution_count": 16,
   "id": "b959e841-9a36-4c37-bbb3-5c7bed038744",
   "metadata": {},
   "outputs": [
    {
     "data": {
      "text/plain": [
       "[0, 1, 2, 3]"
      ]
     },
     "execution_count": 16,
     "metadata": {},
     "output_type": "execute_result"
    }
   ],
   "source": [
    "list(range(len(l)))"
   ]
  },
  {
   "cell_type": "code",
   "execution_count": 17,
   "id": "417c62b2-a2c0-4e15-bf58-a26d890600e6",
   "metadata": {},
   "outputs": [
    {
     "name": "stdout",
     "output_type": "stream",
     "text": [
      "hello\n",
      "10\n",
      "pp\n",
      "85.0\n"
     ]
    }
   ],
   "source": [
    "for i in range(len(l)):\n",
    "    print(l[i])"
   ]
  },
  {
   "cell_type": "code",
   "execution_count": 18,
   "id": "5b97edee-0270-47ec-8fba-ce226377d82f",
   "metadata": {},
   "outputs": [
    {
     "data": {
      "text/plain": [
       "[3, 2, 1, 0]"
      ]
     },
     "execution_count": 18,
     "metadata": {},
     "output_type": "execute_result"
    }
   ],
   "source": [
    "#reverse of list\n",
    "list(range(len(l)-1,-1,-1))"
   ]
  },
  {
   "cell_type": "code",
   "execution_count": 21,
   "id": "48283e3a-176c-4d3b-8e46-e5a0ea13b0f8",
   "metadata": {},
   "outputs": [
    {
     "name": "stdout",
     "output_type": "stream",
     "text": [
      "85.0\n",
      "pp\n",
      "10\n",
      "hello\n"
     ]
    }
   ],
   "source": [
    "for i  in range(len(l)-1,-1,-1):\n",
    "    print(l[i])"
   ]
  },
  {
   "cell_type": "code",
   "execution_count": null,
   "id": "87f03fd7-3cd4-4231-864f-f571c60f9ff0",
   "metadata": {},
   "outputs": [],
   "source": [
    "#functions :- define once, use in anywhere in your prog as required "
   ]
  },
  {
   "cell_type": "code",
   "execution_count": 22,
   "id": "e0ea8597-fdc6-4107-9ef0-201c654a8e1e",
   "metadata": {},
   "outputs": [
    {
     "data": {
      "text/plain": [
       "5"
      ]
     },
     "execution_count": 22,
     "metadata": {},
     "output_type": "execute_result"
    }
   ],
   "source": [
    "len('hello')"
   ]
  },
  {
   "cell_type": "code",
   "execution_count": 23,
   "id": "692ea845-f0c6-4a2a-b896-26eb949cc25b",
   "metadata": {},
   "outputs": [],
   "source": [
    "def fn_name():\n",
    "    '''\n",
    "    this function is used to display greeting msg like welcome\n",
    "    '''\n",
    "    print('welcome')"
   ]
  },
  {
   "cell_type": "code",
   "execution_count": 24,
   "id": "8e3e89cd-416a-4cd0-be23-ec812da4e8aa",
   "metadata": {},
   "outputs": [
    {
     "name": "stdout",
     "output_type": "stream",
     "text": [
      "welcome\n"
     ]
    }
   ],
   "source": [
    "fn_name()"
   ]
  },
  {
   "cell_type": "code",
   "execution_count": 25,
   "id": "e60c9bce-782b-43b3-aea5-64a509185081",
   "metadata": {},
   "outputs": [
    {
     "name": "stdout",
     "output_type": "stream",
     "text": [
      "\n"
     ]
    },
    {
     "data": {
      "text/plain": [
       "NoneType"
      ]
     },
     "execution_count": 25,
     "metadata": {},
     "output_type": "execute_result"
    }
   ],
   "source": [
    "type(print())"
   ]
  },
  {
   "cell_type": "code",
   "execution_count": 27,
   "id": "93092dff-ce1e-4937-9165-ef415d29c5d1",
   "metadata": {},
   "outputs": [],
   "source": [
    "def fn_name():\n",
    "    '''\n",
    "    this function is used to display greeting msg like welcome\n",
    "    '''\n",
    "    return('welcome')"
   ]
  },
  {
   "cell_type": "code",
   "execution_count": null,
   "id": "fe2a1e54-25f9-46b3-9526-35d78570c401",
   "metadata": {},
   "outputs": [],
   "source": []
  },
  {
   "cell_type": "code",
   "execution_count": null,
   "id": "c0cd372f-2b05-492b-a67c-bf773b0db2ec",
   "metadata": {},
   "outputs": [],
   "source": []
  },
  {
   "cell_type": "code",
   "execution_count": null,
   "id": "eb803817-9cb2-467d-b1bd-3c15fca0de4f",
   "metadata": {},
   "outputs": [],
   "source": []
  },
  {
   "cell_type": "code",
   "execution_count": null,
   "id": "cc4a4ab8-41df-408a-987c-ec6b8ed5ac90",
   "metadata": {},
   "outputs": [],
   "source": []
  },
  {
   "cell_type": "code",
   "execution_count": null,
   "id": "575c3fd3-ac35-4874-8be2-46ead8f6b6a4",
   "metadata": {},
   "outputs": [],
   "source": []
  },
  {
   "cell_type": "code",
   "execution_count": null,
   "id": "39c4f6e6-baef-484f-9d34-7941808359ba",
   "metadata": {},
   "outputs": [],
   "source": []
  }
 ],
 "metadata": {
  "kernelspec": {
   "display_name": "Python 3 (ipykernel)",
   "language": "python",
   "name": "python3"
  },
  "language_info": {
   "codemirror_mode": {
    "name": "ipython",
    "version": 3
   },
   "file_extension": ".py",
   "mimetype": "text/x-python",
   "name": "python",
   "nbconvert_exporter": "python",
   "pygments_lexer": "ipython3",
   "version": "3.12.4"
  }
 },
 "nbformat": 4,
 "nbformat_minor": 5
}
